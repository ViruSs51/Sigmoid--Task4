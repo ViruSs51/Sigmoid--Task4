{
 "cells": [
  {
   "cell_type": "markdown",
   "metadata": {},
   "source": [
    "# PCA - Principal Component Analysis\n",
    "    Importing all need module"
   ]
  },
  {
   "cell_type": "code",
   "execution_count": null,
   "metadata": {},
   "outputs": [],
   "source": [
    "import numpy as np\n",
    "import pandas as pd\n",
    "import matplotlib.pyplot as plt\n",
    "from sklearn.datasets import load_iris\n",
    "from sklearn.decomposition import PCA as PCA_sk\n",
    "from sklearn.preprocessing import StandardScaler"
   ]
  },
  {
   "cell_type": "markdown",
   "metadata": {},
   "source": [
    "    Load iris Data Set."
   ]
  },
  {
   "cell_type": "code",
   "execution_count": null,
   "metadata": {},
   "outputs": [],
   "source": [
    "iris = load_iris(return_X_y=True)\n",
    "\n",
    "#print(load_iris()['data'])\n",
    "#print(load_iris()['DESCR'])\n",
    "#print(load_iris()['target_names'])\n",
    "#iris\n",
    "load_iris()\n"
   ]
  },
  {
   "cell_type": "markdown",
   "metadata": {},
   "source": [
    "    Plot the first three columns of the Data Set"
   ]
  },
  {
   "cell_type": "code",
   "execution_count": null,
   "metadata": {},
   "outputs": [],
   "source": [
    "class PlotDataSet:\n",
    "    __data_type = (np.ndarray, list, tuple)\n",
    "    __style = ('.', 'o', 'v', '^', '<', '>', '8', 's', 'p', '*', 'h', 'H', 'D', 'd', 'P', 'X')\n",
    "\n",
    "    def __init__(self,\n",
    "                 data: np.ndarray|list|tuple,\n",
    "                 target: np.ndarray|list|tuple\n",
    "                 ):\n",
    "        self.verify_dataset(data=data, obj='data')\n",
    "        self.verify_dataset(data=target, obj='target')   \n",
    "\n",
    "        self.__all_data = pd.DataFrame(np.hstack((data, target.reshape(target.size, 1))))\n",
    "\n",
    "    @classmethod\n",
    "    def verify_dataset(cls,\n",
    "                       data: np.ndarray,\n",
    "                       obj: str\n",
    "                       ) -> None:\n",
    "        if type(data) not in cls.__data_type:\n",
    "            raise TypeError(f'\\'{obj}\\' isn\\'t of the required type')\n",
    "    \n",
    "    def create_figure(self\n",
    "                      ) -> None:\n",
    "        self.__figure = plt.figure()\n",
    "        self.__ax = self.__figure.add_subplot(projection='3d')\n",
    "\n",
    "        for i, t in enumerate(list(self.__all_data.groupby([3]))):\n",
    "            #x = np.array(t[1])[:, 0]\n",
    "            #y = np.array(t[1])[:, 1]\n",
    "            #z = np.array(t[1])[:, 2]\n",
    "\n",
    "            #self.__ax.scatter(x, y, z, marker=self.__style[i], c=np.array(t[1])[:, 3])\n",
    "            self.__ax.scatter(self.__all_data.values[:, 0], self.__all_data.values[:, 1], self.__all_data.values[:, 2], marker=self.__style[i], c=self.__all_data.values[:, 3])\n",
    "        \n",
    "        self.__ax.set_xlabel('X Label')\n",
    "        self.__ax.set_ylabel('Y Label')\n",
    "        self.__ax.set_zlabel('Z Label')\n",
    "\n",
    "    def plot(self\n",
    "             ) -> None:\n",
    "        plt.show()\n",
    "\n",
    "pdt = PlotDataSet(data=iris[0][:, :3],\n",
    "                  target=iris[1])\n",
    "pdt.create_figure()\n",
    "pdt.plot()"
   ]
  },
  {
   "cell_type": "markdown",
   "metadata": {},
   "source": [
    "    Implementation of PCA from scratch"
   ]
  },
  {
   "cell_type": "code",
   "execution_count": null,
   "metadata": {},
   "outputs": [],
   "source": [
    "class PCA:\n",
    "    methods: list[str] = ['svd', 'eigen']\n",
    "\n",
    "    def __init__(self,\n",
    "                 n_componente: int=2,\n",
    "                 method: str='svd'\n",
    "                 ) -> None:\n",
    "        self.verify_method(method=method)\n",
    "\n",
    "        self.__n_cut = n_componente\n",
    "        self.__method = method\n",
    "\n",
    "    @classmethod\n",
    "    def verify_method(cls,\n",
    "                      method\n",
    "                      ) -> None:\n",
    "        if method not in cls.methods:\n",
    "            raise ValueError(f\"'{method}' is not a method implemented in this model\")\n",
    "\n",
    "    def fit(self,\n",
    "            X: np.ndarray\n",
    "            ) -> 'PCA':\n",
    "        if self.__method == self.methods[0]:\n",
    "            U, S, V = np.linalg.svd(a=X)\n",
    "            self.__V = V[:self.__n_cut, :]\n",
    "        \n",
    "        elif self.__method == self.methods[1]:\n",
    "            corr_mat = np.corrcoef(X.T)\n",
    "\n",
    "            self.eig_vals, self.eig_vecs = np.linalg.eig(corr_mat)\n",
    "            self.eig_pairs = [\n",
    "                (np.abs(self.eig_vals[i]), self.eig_vecs[:, i])\n",
    "                for i in range(len(self.eig_vals))\n",
    "            ]\n",
    "            self.eig_pairs.sort(key=lambda x: x[0], reverse=True)\n",
    "\n",
    "            total = sum(self.eig_vals)\n",
    "            self.explained_variance_ratio = [\n",
    "                (i/total) * 100\n",
    "                for i in sorted(self.eig_vals, reverse=True)\n",
    "            ]\n",
    "            self.cumulative_variance_ratio = np.cumsum(self.explained_variance_ratio)\n",
    "\n",
    "            self.matrix_w = np.hstack(\n",
    "                list((\n",
    "                    self.eig_pairs[i][1].reshape(np.size(X, axis=1), 1)\n",
    "                    for i in range(self.__n_cut)\n",
    "                ))\n",
    "            )\n",
    "        \n",
    "        return self\n",
    "    \n",
    "    def transform(self, \n",
    "                  X: np.ndarray\n",
    "                  ) -> np.ndarray:\n",
    "        if self.__method == self.methods[0]:\n",
    "            return X.dot(self.__V.T)\n",
    "\n",
    "        elif self.__method == self.methods[1]:\n",
    "            return X.dot(self.matrix_w)\n",
    "        \n",
    "eigen = PCA(n_componente=2, method='eigen')\n",
    "svd = PCA(n_componente=2, method='svd')"
   ]
  },
  {
   "cell_type": "markdown",
   "metadata": {},
   "source": [
    "    PCA from sklearn\n",
    "    "
   ]
  },
  {
   "cell_type": "code",
   "execution_count": null,
   "metadata": {},
   "outputs": [],
   "source": [
    "pca = PCA_sk(n_components=2)"
   ]
  },
  {
   "cell_type": "markdown",
   "metadata": {},
   "source": [
    "     StandardScaler from sklearn"
   ]
  },
  {
   "cell_type": "code",
   "execution_count": null,
   "metadata": {},
   "outputs": [],
   "source": [
    "scaler = StandardScaler()\n",
    "iris_scaled = scaler.fit_transform(iris[0])"
   ]
  },
  {
   "cell_type": "markdown",
   "metadata": {},
   "source": [
    "    Train all PCA instances"
   ]
  },
  {
   "cell_type": "code",
   "execution_count": null,
   "metadata": {},
   "outputs": [],
   "source": [
    "eigen.fit(X=iris[0])\n",
    "svd.fit(X=iris[0])\n",
    "pca.fit(X=iris[0])"
   ]
  },
  {
   "cell_type": "markdown",
   "metadata": {},
   "source": [
    "    Use all PCA instances"
   ]
  },
  {
   "cell_type": "code",
   "execution_count": null,
   "metadata": {},
   "outputs": [],
   "source": [
    "eigen_iris = eigen.transform(X=iris[0])\n",
    "svd_iris = svd.transform(X=iris[0])\n",
    "pca_iris = pca.transform(X=iris[0])\n",
    "\n",
    "#eigen_iris[:, :]"
   ]
  },
  {
   "cell_type": "code",
   "execution_count": null,
   "metadata": {},
   "outputs": [],
   "source": [
    "x = svd_iris\n",
    "y = iris[1]\n",
    "\n",
    "fig, axs = plt.subplots(4, 1, figsize=(5, 20))\n",
    "\n",
    "axs[0].scatter(iris[0][:, 0], iris[0][:, 1], c=iris[1])\n",
    "axs[0].set_title('Iris')\n",
    "\n",
    "axs[1].scatter(eigen_iris[:, 0], eigen_iris[:, 1], c=iris[1])\n",
    "axs[1].set_title('Eigen')\n",
    "\n",
    "axs[2].scatter(svd_iris[:, 0], svd_iris[:, 1], c=iris[1])\n",
    "axs[2].set_title('SVD')\n",
    "\n",
    "axs[3].scatter(pca_iris[:, 0], pca_iris[:, 1], c=iris[1])\n",
    "axs[3].set_title('PCA from Sklearn')"
   ]
  },
  {
   "cell_type": "markdown",
   "metadata": {},
   "source": [
    "###   Concluzia in baza graficilor\n",
    "     Dupa parerea mea, ma gandesc ca dupa utilizatrea toturor algoritme de PCA si amplasarea lor pe grafic, acesta arata cat de comun sunt datele intre ele, ca corelatie au. \n",
    "     Si aici dupa cum vad, clasul Setoasa are ceea mai mica corelatie cu toate, cand Versicolour si Virginica sunt practic aproape unu de altul, ce arata ca au o corelatie careva. \n",
    "     Astfel Iris-Versicolour si Iris-Virginica sunt mai folositoare din acest dataset."
   ]
  },
  {
   "cell_type": "markdown",
   "metadata": {},
   "source": [
    "    Reantrenarea modelului PCA din sklearn cu n_componente 1"
   ]
  },
  {
   "cell_type": "code",
   "execution_count": null,
   "metadata": {},
   "outputs": [],
   "source": [
    "pca2 = PCA_sk(n_components=1)\n",
    "pca2.fit(X=iris[0])\n",
    "pca2_iris = pca2.transform(X=iris[0])\n",
    "\n",
    "explained_variance_ratio = pca.explained_variance_ratio_\n",
    "\n",
    "plt.bar(range(1, 2), explained_variance_ratio, align='center')\n",
    "plt.title('Raportul de Varianță')\n",
    "plt.xlabel('Componenta Principală')\n",
    "plt.ylabel('Raportul de Varianță')\n",
    "plt.xticks(range(1, 2))\n",
    "plt.grid(True)\n",
    "plt.show()"
   ]
  },
  {
   "cell_type": "markdown",
   "metadata": {},
   "source": [
    "###   Concluzia in baza acestui grafic\n",
    "    ..."
   ]
  }
 ],
 "metadata": {
  "kernelspec": {
   "display_name": "Python 3",
   "language": "python",
   "name": "python3"
  },
  "language_info": {
   "codemirror_mode": {
    "name": "ipython",
    "version": 3
   },
   "file_extension": ".py",
   "mimetype": "text/x-python",
   "name": "python",
   "nbconvert_exporter": "python",
   "pygments_lexer": "ipython3",
   "version": "3.11.4"
  }
 },
 "nbformat": 4,
 "nbformat_minor": 2
}
